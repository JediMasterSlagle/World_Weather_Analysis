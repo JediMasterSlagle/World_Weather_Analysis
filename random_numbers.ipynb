{
 "cells": [
  {
   "cell_type": "code",
   "execution_count": 1,
   "id": "22acd17b",
   "metadata": {},
   "outputs": [],
   "source": [
    "#Import random module\n",
    "import random"
   ]
  },
  {
   "cell_type": "code",
   "execution_count": 2,
   "id": "721d5e12",
   "metadata": {},
   "outputs": [
    {
     "data": {
      "text/plain": [
       "-55"
      ]
     },
     "execution_count": 2,
     "metadata": {},
     "output_type": "execute_result"
    }
   ],
   "source": [
    "#Using \"randint function\" (tab after random. bring up list of random functions)\n",
    "random.randint(-90, 90)"
   ]
  },
  {
   "cell_type": "code",
   "execution_count": 3,
   "id": "84285802",
   "metadata": {},
   "outputs": [
    {
     "data": {
      "text/plain": [
       "0.46798738583815935"
      ]
     },
     "execution_count": 3,
     "metadata": {},
     "output_type": "execute_result"
    }
   ],
   "source": [
    "#Using \"random\" function\n",
    "random.random()"
   ]
  },
  {
   "cell_type": "code",
   "execution_count": 4,
   "id": "ecd14ca6",
   "metadata": {},
   "outputs": [
    {
     "data": {
      "text/plain": [
       "64.42934375474337"
      ]
     },
     "execution_count": 4,
     "metadata": {},
     "output_type": "execute_result"
    }
   ],
   "source": [
    "#Using \"random & randint functions\" together to create variable and print\n",
    "random_number = random.randint(-90, 89) + random.random()\n",
    "random_number"
   ]
  },
  {
   "cell_type": "code",
   "execution_count": 6,
   "id": "19cc0bca",
   "metadata": {},
   "outputs": [
    {
     "data": {
      "text/plain": [
       "[9.547095947937882,\n",
       " 57.64808833775051,\n",
       " -47.93087717061356,\n",
       " 46.353193260520584,\n",
       " -67.33465659335235,\n",
       " -85.67389120899848,\n",
       " 26.833393470244605,\n",
       " 12.194796974568902,\n",
       " -18.184622861709574,\n",
       " 68.15218669696984]"
      ]
     },
     "execution_count": 6,
     "metadata": {},
     "output_type": "execute_result"
    }
   ],
   "source": [
    "#Using \"random & randint functions\" to gen. 10 random numbers & visual below\n",
    "x = 1\n",
    "latitudes = []\n",
    "while x < 11:\n",
    "    random_lat = random.randint(-90, 89) + random.random()\n",
    "    latitudes.append(random_lat)\n",
    "    x += 1\n",
    "latitudes"
   ]
  },
  {
   "cell_type": "code",
   "execution_count": 7,
   "id": "fc930ea3",
   "metadata": {},
   "outputs": [
    {
     "data": {
      "text/plain": [
       "20"
      ]
     },
     "execution_count": 7,
     "metadata": {},
     "output_type": "execute_result"
    }
   ],
   "source": [
    "#Using \"randrange\" function to add number to upper and lower limit\n",
    "random.randrange(-90, 90, step=1)"
   ]
  },
  {
   "cell_type": "code",
   "execution_count": 8,
   "id": "979a1d0c",
   "metadata": {},
   "outputs": [
    {
     "data": {
      "text/plain": [
       "-30"
      ]
     },
     "execution_count": 8,
     "metadata": {},
     "output_type": "execute_result"
    }
   ],
   "source": [
    "#Repeated for random in step 3\n",
    "random.randrange(-90, 90, step=3)"
   ]
  },
  {
   "cell_type": "code",
   "execution_count": 9,
   "id": "aae0a1b2",
   "metadata": {},
   "outputs": [
    {
     "data": {
      "text/plain": [
       "-60.98378948253058"
      ]
     },
     "execution_count": 9,
     "metadata": {},
     "output_type": "execute_result"
    }
   ],
   "source": [
    "#Using \"uniform function\" to generate floating point decimal\n",
    "random.uniform(-90, 90)"
   ]
  },
  {
   "cell_type": "code",
   "execution_count": 10,
   "id": "8ec1a8d3",
   "metadata": {},
   "outputs": [],
   "source": [
    "#Import numpy module  (numpy has built in random function)\n",
    "import numpy as np"
   ]
  },
  {
   "cell_type": "code",
   "execution_count": 11,
   "id": "af470da3",
   "metadata": {},
   "outputs": [
    {
     "data": {
      "text/plain": [
       "-21.173339541544877"
      ]
     },
     "execution_count": 11,
     "metadata": {},
     "output_type": "execute_result"
    }
   ],
   "source": [
    "#Using \"uniform function\" with numpy\n",
    "np.random.uniform(-90.000, 90.000)"
   ]
  },
  {
   "cell_type": "code",
   "execution_count": 12,
   "id": "6af44ce0",
   "metadata": {},
   "outputs": [
    {
     "data": {
      "text/plain": [
       "array([ 62.51741763, -35.17486417,  69.62422976,  22.17614917,\n",
       "        33.59103815,   8.92453269,  86.62439938,   2.50313912,\n",
       "        86.34333339,  -3.0327524 ,  20.77955001, -19.73186746,\n",
       "       -66.26552133,  35.38857512,   3.52431502,  86.08772275,\n",
       "        62.3360073 , -73.53325621, -30.43415852,  76.47009675,\n",
       "        54.62116563,  36.19418614,   5.19095882,  33.11059985,\n",
       "       -87.56294542,  27.56102383,  21.60087449,  78.14423323,\n",
       "       -12.75535832,  -6.30139406,   2.20811083, -55.57343951,\n",
       "       -64.30149031,  86.41260305,  78.15365633,  56.95587694,\n",
       "        47.54329075, -87.26081191,  23.59128974,  73.39319235,\n",
       "       -51.91091483, -16.92034699,  14.17794521, -62.72152201,\n",
       "        44.34899342,  29.61900887,   8.94963897,  79.48880188,\n",
       "        34.43051978, -57.74769204])"
      ]
     },
     "execution_count": 12,
     "metadata": {},
     "output_type": "execute_result"
    }
   ],
   "source": [
    "#repeating using \"size 50\" to add an array of 50 numbers\n",
    "np.random.uniform(-90.000, 90.000, size=50)"
   ]
  },
  {
   "cell_type": "code",
   "execution_count": 13,
   "id": "b870fc07",
   "metadata": {},
   "outputs": [],
   "source": [
    "#Import timeit module to test code run time\n",
    "import timeit"
   ]
  },
  {
   "cell_type": "code",
   "execution_count": 14,
   "id": "1728ce9b",
   "metadata": {},
   "outputs": [
    {
     "name": "stdout",
     "output_type": "stream",
     "text": [
      "12.4 µs ± 431 ns per loop (mean ± std. dev. of 7 runs, 100000 loops each)\n"
     ]
    }
   ],
   "source": [
    "#Add timeit magic command to random function (time it takes to run this code)\n",
    "%timeit np.random.uniform(-90.000, 90.000, size=1500)"
   ]
  },
  {
   "cell_type": "code",
   "execution_count": 17,
   "id": "8694ba20",
   "metadata": {},
   "outputs": [
    {
     "name": "stdout",
     "output_type": "stream",
     "text": [
      "1.51 ms ± 49.1 µs per loop (mean ± std. dev. of 7 runs, 1000 loops each)\n"
     ]
    }
   ],
   "source": [
    "#Define latitudes using while loop as a function\n",
    "def latitudes(size):\n",
    "    latitudes = []\n",
    "    x = 0\n",
    "    while x < (size):\n",
    "        random_lat = random.randint(-90, 90) + random.random()\n",
    "        latitudes.append(random_lat)\n",
    "        x += 1\n",
    "    return latitudes\n",
    "\n",
    "#Call function with 1500.\n",
    "%timeit latitudes(1500)"
   ]
  },
  {
   "cell_type": "code",
   "execution_count": 20,
   "id": "4cebfdfb",
   "metadata": {},
   "outputs": [
    {
     "name": "stdout",
     "output_type": "stream",
     "text": [
      "43.3 ms ± 1.18 ms per loop (mean ± std. dev. of 7 runs, 10 loops each)\n"
     ]
    }
   ],
   "source": [
    "#Skill add 1500 latitudes and return value\n",
    "def latitudes(size):\n",
    "    latitudes = []\n",
    "    x = 0\n",
    "    while x < (size):\n",
    "        random_lat = np.random.randint(-90, 90, size=1500) + random.random()\n",
    "        latitudes.append(random_lat)\n",
    "        x += 1\n",
    "    return latitudes\n",
    "\n",
    "%timeit latitudes(1500)"
   ]
  },
  {
   "cell_type": "code",
   "execution_count": null,
   "id": "c840d846",
   "metadata": {},
   "outputs": [],
   "source": []
  }
 ],
 "metadata": {
  "kernelspec": {
   "display_name": "PythonData",
   "language": "python",
   "name": "pythondata"
  },
  "language_info": {
   "codemirror_mode": {
    "name": "ipython",
    "version": 3
   },
   "file_extension": ".py",
   "mimetype": "text/x-python",
   "name": "python",
   "nbconvert_exporter": "python",
   "pygments_lexer": "ipython3",
   "version": "3.7.11"
  }
 },
 "nbformat": 4,
 "nbformat_minor": 5
}
